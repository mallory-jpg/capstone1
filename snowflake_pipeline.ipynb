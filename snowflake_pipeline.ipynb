{
 "cells": [
  {
   "cell_type": "markdown",
   "metadata": {},
   "source": [
    "# SMPA Pipeline + Snowflake + dbt: ELT\n",
    "* **Extracted** from API calls\n",
    "* Uses Snowflake to **load** already-filtered (by keyword) social media data\n",
    "* Data that's in Snowflake will be **transformed** using dbt (which takes code, compiles it into SQL, then runs it against the database)"
   ]
  },
  {
   "cell_type": "markdown",
   "metadata": {},
   "source": [
    "### Notes\n",
    "* Load data into snowflake stage\n",
    "* Flatten data into cohesive, nice lil table\n",
    "* Snowflake is great for semi-structured data\n",
    "* Load from snowflake into python to do my lil transformations?\n",
    "* Cleaning up formatting\n",
    "* Or do analytics like the word count thingies in python?\n"
   ]
  },
  {
   "cell_type": "markdown",
   "metadata": {},
   "source": [
    "## Create storage in Snowflake"
   ]
  },
  {
   "cell_type": "code",
   "execution_count": null,
   "metadata": {},
   "outputs": [],
   "source": [
    "# create DB & schema where data will be staged"
   ]
  },
  {
   "cell_type": "code",
   "execution_count": null,
   "metadata": {},
   "outputs": [],
   "source": [
    "# create table into which data will be loaded"
   ]
  },
  {
   "cell_type": "code",
   "execution_count": null,
   "metadata": {},
   "outputs": [],
   "source": [
    "# define stage variables for file locations\n",
    "DATABASE = 'SOCIAL_MEDIA_DB'\n",
    "SCHEMA = 'DBT_ANALYTICS_SCHEMA'\n",
    "STAGE = ''\n",
    "\n",
    "# define stage variables for destination tables\n",
    "\n"
   ]
  },
  {
   "cell_type": "code",
   "execution_count": null,
   "metadata": {},
   "outputs": [],
   "source": [
    "# construct simple variables list for automation \n",
    "variablesSimpleList = [\n",
    "    [f'{DATABASE}.{SCHEMA}.{STAGE}/Table_A', f'{DATABASE}.{SCHEMA}.TABLE_A'],\n",
    "    [f'{DATABASE}.{SCHEMA}.{STAGE}/Table_A', f'{DATABASE}.{SCHEMA}.TABLE_A']\n",
    "]\n",
    "# TODO insert staging table & destination table names"
   ]
  },
  {
   "cell_type": "code",
   "execution_count": null,
   "metadata": {},
   "outputs": [],
   "source": [
    "# run simple variables list through function to create structure\n",
    "\n",
    "# define empty list to populate with variables \n",
    "variablesList = []\n",
    "\n",
    "# Loop through the members of variablesSimpleList and add them to variablesList\n",
    "# This script assumes the first entry of each member of variablesSimpleList is the sourceLocation,\n",
    "# and that the second entry is the destinationTable.\n",
    "for [sourceLocation, destinationTable] in variablesSimpleList:\n",
    "    variablesList.append(\n",
    "        {\n",
    "        'sourceLocation': sourceLocation,\n",
    "        'destinationTable': destinationTable\n",
    "        }\n",
    "    )"
   ]
  },
  {
   "cell_type": "code",
   "execution_count": 2,
   "metadata": {},
   "outputs": [
    {
     "ename": "IndentationError",
     "evalue": "expected an indented block (3884593966.py, line 19)",
     "output_type": "error",
     "traceback": [
      "\u001b[0;36m  File \u001b[0;32m\"/var/folders/qt/_s080z6n10g_hxq4nr2rfcjr0000gs/T/ipykernel_76318/3884593966.py\"\u001b[0;36m, line \u001b[0;32m19\u001b[0m\n\u001b[0;31m    for statement in copyIntoStatements:\u001b[0m\n\u001b[0m                                        ^\u001b[0m\n\u001b[0;31mIndentationError\u001b[0m\u001b[0;31m:\u001b[0m expected an indented block\n"
     ]
    }
   ],
   "source": [
    "# automatic generation of `COPY INTO` statements\n",
    "\n",
    "# Define an empty list to populate with COPY INTO statements\n",
    "copyIntoStatements = []\n",
    "\n",
    "# Loop through the members of variablesList and construct the COPY INTO statements\n",
    "# Use .format() to replace the {0} and {1} with variables destinationTable and sourceLocation\n",
    "for member in variablesList:\n",
    "  copyIntoStatements.append(\n",
    "    '''\n",
    "    COPY INTO {0}\n",
    "    FROM @{1}\n",
    "      FILE_FORMAT = (FORMAT_NAME = DATABASE.SCHEMA.MY_CSV_FORMAT)\n",
    "      ;\n",
    "    '''.format(member['destinationTable'], member['sourceLocation'])\n",
    "  )\n",
    "\n",
    "# QA\n",
    "for statement in copyIntoStatements:\n",
    "  print(statement)"
   ]
  },
  {
   "cell_type": "markdown",
   "metadata": {},
   "source": [
    "## Extract data from API calls"
   ]
  },
  {
   "cell_type": "code",
   "execution_count": null,
   "metadata": {},
   "outputs": [],
   "source": [
    "# Imports"
   ]
  },
  {
   "cell_type": "markdown",
   "metadata": {},
   "source": [
    "## Load data into Snowflake"
   ]
  },
  {
   "cell_type": "code",
   "execution_count": null,
   "metadata": {},
   "outputs": [],
   "source": [
    "# connect to Snowflake from Python \n",
    "\n",
    "import snowflake.connector as sf\n",
    "\n",
    "def sfConnect():\n",
    "    pass"
   ]
  },
  {
   "cell_type": "code",
   "execution_count": null,
   "metadata": {},
   "outputs": [],
   "source": [
    "# COPY INTO SOCIAL_MEDIA_DB.DBT_ANALYTICS_SCHEMA.<INPUT_TABLE>\n",
    "# FROM @SOCIAL_MEDIA_DB.DBT_ANALYTICS_SCHEMA.<STAGE>\n",
    "# FILE_FORMAT = (TYPE = 'JSON' STRIP_OUTER_ARRAY = TRUE);"
   ]
  },
  {
   "cell_type": "markdown",
   "metadata": {},
   "source": [
    "## Transform for Analysis"
   ]
  },
  {
   "cell_type": "code",
   "execution_count": null,
   "metadata": {},
   "outputs": [],
   "source": []
  }
 ],
 "metadata": {
  "interpreter": {
   "hash": "1aff9e06f44ab5c02997d2cff868f28732fb3ff517d8574c82d24b5c256f30e1"
  },
  "kernelspec": {
   "display_name": "Python 3.9.9 64-bit ('env': venv)",
   "language": "python",
   "name": "python3"
  },
  "language_info": {
   "codemirror_mode": {
    "name": "ipython",
    "version": 3
   },
   "file_extension": ".py",
   "mimetype": "text/x-python",
   "name": "python",
   "nbconvert_exporter": "python",
   "pygments_lexer": "ipython3",
   "version": "3.9.9"
  },
  "orig_nbformat": 4
 },
 "nbformat": 4,
 "nbformat_minor": 2
}
